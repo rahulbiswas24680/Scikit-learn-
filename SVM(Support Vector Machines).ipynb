{
 "cells": [
  {
   "cell_type": "code",
   "execution_count": 40,
   "metadata": {},
   "outputs": [
    {
     "name": "stdout",
     "output_type": "stream",
     "text": [
      "Accuracy of the training subset: 0.904\n",
      "Accuracy of the test subset: 0.937\n"
     ]
    }
   ],
   "source": [
    "from sklearn.svm import SVC\n",
    "from sklearn.model_selection import train_test_split\n",
    "from sklearn.datasets import load_breast_cancer\n",
    "\n",
    "cancer = load_breast_cancer()\n",
    "X_train, X_test, y_train, y_test = train_test_split(cancer.data, cancer.target, random_state=0)\n",
    "\n",
    "svm = SVC()\n",
    "svm.fit(X_train, y_train)\n",
    "\n",
    "print('Accuracy of the training subset: {:.3f}'.format(svm.score(X_train, y_train)))\n",
    "print('Accuracy of the test subset: {:.3f}'.format(svm.score(X_test, y_test)))"
   ]
  },
  {
   "cell_type": "code",
   "execution_count": 41,
   "metadata": {},
   "outputs": [
    {
     "data": {
      "text/plain": [
       "<matplotlib.legend.Legend at 0x295e2f89fc8>"
      ]
     },
     "execution_count": 41,
     "metadata": {},
     "output_type": "execute_result"
    },
    {
     "data": {
      "image/png": "[encoded data removed]",
      "text/plain": [
       "<Figure size 432x288 with 1 Axes>"
      ]
     },
     "metadata": {
      "needs_background": "light"
     },
     "output_type": "display_data"
    }
   ],
   "source": [
    "import matplotlib.pyplot as plt\n",
    "%matplotlib inline\n",
    "\n",
    "plt.plot(X_train.min(axis=0), 'o', label='Min')\n",
    "plt.plot(X_train.max(axis=0), 'v', label='Max')\n",
    "plt.xlabel('Feature Index')\n",
    "plt.ylabel('Feature Magnitude in Log Scale')\n",
    "plt.yscale('log')\n",
    "plt.legend(loc='upper right')"
   ]
  },
  {
   "cell_type": "code",
   "execution_count": 42,
   "metadata": {},
   "outputs": [
    {
     "name": "stdout",
     "output_type": "stream",
     "text": [
      "Minimum per feature\n",
      "[0. 0. 0. 0. 0. 0. 0. 0. 0. 0. 0. 0. 0. 0. 0. 0. 0. 0. 0. 0. 0. 0. 0. 0.\n",
      " 0. 0. 0. 0. 0. 0.]\n",
      "Maximum per feature\n",
      "[1. 1. 1. 1. 1. 1. 1. 1. 1. 1. 1. 1. 1. 1. 1. 1. 1. 1. 1. 1. 1. 1. 1. 1.\n",
      " 1. 1. 1. 1. 1. 1.]\n"
     ]
    }
   ],
   "source": [
    "min_train = X_train.min(axis=0)\n",
    "range_train = (X_train - min_train).max(axis=0)\n",
    "X_train_scaled = (X_train - min_train)/ range_train\n",
    "\n",
    "print('Minimum per feature\\n{}'.format(X_train_scaled.min(axis=0)))\n",
    "print('Maximum per feature\\n{}'.format(X_train_scaled.max(axis=0)))\n"
   ]
  },
  {
   "cell_type": "code",
   "execution_count": 43,
   "metadata": {},
   "outputs": [
    {
     "data": {
      "text/plain": [
       "SVC(C=1.0, break_ties=False, cache_size=200, class_weight=None, coef0=0.0,\n",
       "    decision_function_shape='ovr', degree=3, gamma='scale', kernel='rbf',\n",
       "    max_iter=-1, probability=False, random_state=None, shrinking=True,\n",
       "    tol=0.001, verbose=False)"
      ]
     },
     "execution_count": 43,
     "metadata": {},
     "output_type": "execute_result"
    }
   ],
   "source": [
    "X_test_scaled = (X_test - min_train)/range_train\n",
    "\n",
    "svm = SVC()\n",
    "svm.fit(X_train_scaled, y_train)\n"
   ]
  },
  {
   "cell_type": "code",
   "execution_count": 44,
   "metadata": {},
   "outputs": [
    {
     "name": "stdout",
     "output_type": "stream",
     "text": [
      "Accuracy of the training subset: 0.984\n",
      "Accuracy of the test subset: 0.972\n"
     ]
    }
   ],
   "source": [
    "print('Accuracy of the training subset: {:.3f}'.format(svm.score(X_train_scaled, y_train)))\n",
    "print('Accuracy of the test subset: {:.3f}'.format(svm.score(X_test_scaled, y_test)))"
   ]
  },
  {
   "cell_type": "code",
   "execution_count": 45,
   "metadata": {},
   "outputs": [
    {
     "name": "stdout",
     "output_type": "stream",
     "text": [
      "Accuracy of the training subset: 0.988\n",
      "Accuracy of the test subset: 0.972\n"
     ]
    }
   ],
   "source": [
    "svm = SVC(C=10)\n",
    "svm.fit(X_train_scaled, y_train)\n",
    "\n",
    "print('Accuracy of the training subset: {:.3f}'.format(svm.score(X_train_scaled, y_train)))\n",
    "print('Accuracy of the test subset: {:.3f}'.format(svm.score(X_test_scaled, y_test)))"
   ]
  },
  {
   "cell_type": "markdown",
   "metadata": {},
   "source": [
    "# Advantages and Disadvanatages of SVM"
   ]
  },
  {
   "cell_type": "markdown",
   "metadata": {},
   "source": [
    "## Stronger points:\n",
    "\n",
    "#### 1. they  are versatile.\n",
    "#### 2. can build complex decision boundaries on the low-dimentional data\n",
    "#### 3. can work well on high-dimentional data with relatively small sample size etc."
   ]
  },
  {
   "cell_type": "markdown",
   "metadata": {},
   "source": [
    "## Weaker points:\n",
    "\n",
    "#### 1. dont perform well on high-dimentional data with many samples(i..e. > 1000)\n",
    "#### 2. preprocessig may be required => implies knowledge and unerstanding of hyperparameters\n",
    "#### 3. harder to inspect and visualize etc"
   ]
  },
  {
   "cell_type": "markdown",
   "metadata": {},
   "source": [
    "## Alternatives:\n",
    "\n",
    "#### 1. DT and Random Forests (require less/no preeprocessing of data, easier to understand , inspect, and visualize)\n",
    "\n",
    "## Good Practices:\n",
    "\n",
    "#### 1. data scaling\n",
    "#### 2. other pre-processing\n",
    "#### 3. choosing an appropiate kernel\n",
    "#### 4. tuning hyper-parameters ; C;  gamma, etc."
   ]
  },
  {
   "cell_type": "markdown",
   "metadata": {},
   "source": [
    "##                                             Uncertainity Estimation"
   ]
  },
  {
   "cell_type": "markdown",
   "metadata": {},
   "source": [
    "## decision function & predict probability"
   ]
  },
  {
   "cell_type": "code",
   "execution_count": 48,
   "metadata": {},
   "outputs": [
    {
     "name": "stdout",
     "output_type": "stream",
     "text": [
      "The decision function is\n",
      "\n",
      " [-2.68882319  0.99574842  2.11204632  1.29398482  1.83701612  2.41498141\n",
      "  2.86687098  1.91828312  1.32018282  2.24420887  0.67744413  1.11285184\n",
      "  2.69579553  0.11331079  0.83823022 -1.41340138  1.46344694 -3.34120146\n",
      " -2.93379336 -2.83892202]\n"
     ]
    }
   ],
   "source": [
    "print('The decision function is\\n\\n {}'.format(svm.decision_function(X_test_scaled)[:20]))"
   ]
  },
  {
   "cell_type": "code",
   "execution_count": 51,
   "metadata": {},
   "outputs": [
    {
     "name": "stdout",
     "output_type": "stream",
     "text": [
      "Thresholded decision functon\n",
      "\n",
      "[False  True  True  True  True  True  True  True  True  True  True  True\n",
      "  True  True  True False  True False False False]\n"
     ]
    }
   ],
   "source": [
    "print('Thresholded decision functon\\n\\n{}'.format(svm.decision_function(X_test_scaled)[:20] > 0))"
   ]
  },
  {
   "cell_type": "code",
   "execution_count": 54,
   "metadata": {},
   "outputs": [
    {
     "data": {
      "text/plain": [
       "array([0, 1])"
      ]
     },
     "execution_count": 54,
     "metadata": {},
     "output_type": "execute_result"
    }
   ],
   "source": [
    "svm.classes_"
   ]
  },
  {
   "cell_type": "code",
   "execution_count": 60,
   "metadata": {},
   "outputs": [
    {
     "name": "stdout",
     "output_type": "stream",
     "text": [
      "Predicting prpobailities for the samples (maligant & benign):\n",
      "\n",
      "[[9.97792493e-01 2.20750674e-03]\n",
      " [3.37815266e-01 6.62184734e-01]\n",
      " [9.95239555e-06 9.99990048e-01]\n",
      " [6.67793429e-02 9.33220657e-01]\n",
      " [2.06677439e-02 9.79332256e-01]\n",
      " [1.51512649e-05 9.99984849e-01]\n",
      " [1.60400733e-08 9.99999984e-01]\n",
      " [1.97897058e-02 9.80210294e-01]\n",
      " [9.77893199e-03 9.90221068e-01]\n",
      " [3.28136277e-07 9.99999672e-01]\n",
      " [4.79005111e-01 5.20994889e-01]\n",
      " [9.22510321e-02 9.07748968e-01]\n",
      " [1.15534780e-06 9.99998845e-01]\n",
      " [5.74002518e-02 9.42599748e-01]\n",
      " [7.67504141e-01 2.32495859e-01]\n",
      " [9.96159441e-01 3.84055877e-03]\n",
      " [4.97689653e-03 9.95023103e-01]\n",
      " [9.96906464e-01 3.09353637e-03]\n",
      " [9.97019803e-01 2.98019738e-03]\n",
      " [9.99315428e-01 6.84571575e-04]]\n"
     ]
    }
   ],
   "source": [
    "svm = SVC(C=1000, probability=True)\n",
    "svm.fit(X_train_scaled, y_train)\n",
    "\n",
    "print('Predicting prpobailities for the samples (maligant & benign):\\n\\n{}'.format(svm.predict_proba(X_test_scaled[:20])))"
   ]
  },
  {
   "cell_type": "code",
   "execution_count": null,
   "metadata": {},
   "outputs": [],
   "source": []
  }
 ],
 "metadata": {
  "kernelspec": {
   "display_name": "Python 3",
   "language": "python",
   "name": "python3"
  },
  "language_info": {
   "codemirror_mode": {
    "name": "ipython",
    "version": 3
   },
   "file_extension": ".py",
   "mimetype": "text/x-python",
   "name": "python",
   "nbconvert_exporter": "python",
   "pygments_lexer": "ipython3",
   "version": "3.7.6"
  }
 },
 "nbformat": 4,
 "nbformat_minor": 4
}
