{
 "cells": [
  {
   "cell_type": "code",
   "execution_count": 5,
   "metadata": {},
   "outputs": [],
   "source": [
    "from sklearn.datasets import load_iris\n",
    "from sklearn.model_selection import train_test_split\n",
    "from sklearn.ensemble import GradientBoostingClassifier\n",
    "\n",
    "iris = load_iris()"
   ]
  },
  {
   "cell_type": "code",
   "execution_count": 6,
   "metadata": {},
   "outputs": [
    {
     "data": {
      "text/plain": [
       "GradientBoostingClassifier(ccp_alpha=0.0, criterion='friedman_mse', init=None,\n",
       "                           learning_rate=0.01, loss='deviance', max_depth=3,\n",
       "                           max_features=None, max_leaf_nodes=None,\n",
       "                           min_impurity_decrease=0.0, min_impurity_split=None,\n",
       "                           min_samples_leaf=1, min_samples_split=2,\n",
       "                           min_weight_fraction_leaf=0.0, n_estimators=100,\n",
       "                           n_iter_no_change=None, presort='deprecated',\n",
       "                           random_state=0, subsample=1.0, tol=0.0001,\n",
       "                           validation_fraction=0.1, verbose=0,\n",
       "                           warm_start=False)"
      ]
     },
     "execution_count": 6,
     "metadata": {},
     "output_type": "execute_result"
    }
   ],
   "source": [
    "X_train, X_test, y_train, y_test = train_test_split(iris.data, iris.target, random_state=42)\n",
    "gbrt = GradientBoostingClassifier(learning_rate=0.01, random_state=0)\n",
    "\n",
    "gbrt.fit(X_train, y_train)"
   ]
  },
  {
   "cell_type": "code",
   "execution_count": 8,
   "metadata": {},
   "outputs": [
    {
     "name": "stdout",
     "output_type": "stream",
     "text": [
      "The decision function for the 3-class iris dataset:\n",
      "\n",
      "[[-1.9957153   0.04758118 -1.92721297]\n",
      " [ 0.0614655  -1.90755689 -1.92793177]\n",
      " [-1.99058105 -1.87637856  0.09686741]\n",
      " [-1.9957153   0.04758118 -1.92721297]\n",
      " [-1.99730166 -0.13469231 -1.20341532]\n",
      " [ 0.0614655  -1.90755689 -1.92793177]\n",
      " [-1.9957153   0.04758118 -1.92721297]\n",
      " [-1.9967734  -1.87637856  0.09686741]\n",
      " [-1.9957153   0.04758118 -1.92721297]\n",
      " [-1.9957153   0.04758118 -1.92721297]]\n"
     ]
    }
   ],
   "source": [
    "print('The decision function for the 3-class iris dataset:\\n\\n{}'.format(gbrt.decision_function(X_test[:10])))"
   ]
  },
  {
   "cell_type": "code",
   "execution_count": 9,
   "metadata": {},
   "outputs": [
    {
     "name": "stdout",
     "output_type": "stream",
     "text": [
      "The predicted probabbility for the 3-class iris dataset:\n",
      "\n",
      "[[0.10217734 0.78840063 0.10942203]\n",
      " [0.7834712  0.1093673  0.1071615 ]\n",
      " [0.09818079 0.11005862 0.79176059]\n",
      " [0.10217734 0.78840063 0.10942203]\n",
      " [0.10360014 0.66723882 0.22916105]\n",
      " [0.7834712  0.1093673  0.1071615 ]\n",
      " [0.10217734 0.78840063 0.10942203]\n",
      " [0.09763388 0.11012536 0.79224076]\n",
      " [0.10217734 0.78840063 0.10942203]\n",
      " [0.10217734 0.78840063 0.10942203]]\n"
     ]
    }
   ],
   "source": [
    "print('The predicted probabbility for the 3-class iris dataset:\\n\\n{}'.format(gbrt.predict_proba(X_test[:10])))"
   ]
  },
  {
   "cell_type": "code",
   "execution_count": null,
   "metadata": {},
   "outputs": [],
   "source": []
  }
 ],
 "metadata": {
  "kernelspec": {
   "display_name": "Python 3",
   "language": "python",
   "name": "python3"
  },
  "language_info": {
   "codemirror_mode": {
    "name": "ipython",
    "version": 3
   },
   "file_extension": ".py",
   "mimetype": "text/x-python",
   "name": "python",
   "nbconvert_exporter": "python",
   "pygments_lexer": "ipython3",
   "version": "3.7.6"
  }
 },
 "nbformat": 4,
 "nbformat_minor": 4
}
